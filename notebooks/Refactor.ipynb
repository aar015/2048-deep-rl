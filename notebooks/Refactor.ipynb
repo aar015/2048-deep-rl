{
 "metadata": {
  "language_info": {
   "codemirror_mode": {
    "name": "ipython",
    "version": 3
   },
   "file_extension": ".py",
   "mimetype": "text/x-python",
   "name": "python",
   "nbconvert_exporter": "python",
   "pygments_lexer": "ipython3",
   "version": "3.8.5-final"
  },
  "orig_nbformat": 2,
  "kernelspec": {
   "name": "python3",
   "display_name": "Python 3",
   "language": "python"
  }
 },
 "nbformat": 4,
 "nbformat_minor": 2,
 "cells": [
  {
   "cell_type": "code",
   "execution_count": 1,
   "metadata": {},
   "outputs": [],
   "source": [
    "def advance(input, output, reward):\n",
    "    head = 1\n",
    "    reward[0] = 0\n",
    "    size = state.shape[0]\n",
    "    for tail in range(size):\n",
    "        while head < size and (head < tail or input[head] == 0):\n",
    "            head += 1\n",
    "        if head == size:\n",
    "            pass\n",
    "        elif input[tail] == 0:\n",
    "            output[tail] = input[head]\n",
    "        else:\n",
    "            if input[tail] == input[head]:\n",
    "                output[tail] = input[tail] + 1\n",
    "                reward[0] += 2 ** output[tail]\n",
    "            break"
   ]
  },
  {
   "cell_type": "code",
   "execution_count": null,
   "metadata": {},
   "outputs": [],
   "source": []
  }
 ]
}