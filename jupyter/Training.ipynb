{
 "cells": [
  {
   "cell_type": "code",
   "execution_count": 1,
   "metadata": {},
   "outputs": [],
   "source": [
    "import numpy\n",
    "import matplotlib.pyplot as plt\n",
    "import pandas\n",
    "import src\n",
    "import torch\n",
    "import torch.nn as nn\n",
    "import torch.optim as optim\n",
    "import torch.nn.functional as F"
   ]
  },
  {
   "cell_type": "markdown",
   "metadata": {},
   "source": [
    "## Init Agent"
   ]
  },
  {
   "cell_type": "code",
   "execution_count": 2,
   "metadata": {},
   "outputs": [],
   "source": [
    "device = torch.device(\"cuda\" if torch.cuda.is_available() else \"cpu\")"
   ]
  },
  {
   "cell_type": "code",
   "execution_count": 3,
   "metadata": {},
   "outputs": [],
   "source": [
    "model = nn.Sequential(\n",
    "    nn.Linear(16, 16),\n",
    "    nn.Hardsigmoid(),\n",
    "    nn.Linear(16, 8),\n",
    "    nn.Hardsigmoid(),\n",
    "    nn.Linear(8, 4),\n",
    "    nn.Hardsigmoid(),\n",
    "    nn.Linear(4, 2),\n",
    "    nn.Hardsigmoid(),\n",
    "    nn.Linear(2, 1),\n",
    "    nn.Hardsigmoid(),\n",
    ")"
   ]
  },
  {
   "cell_type": "code",
   "execution_count": 4,
   "metadata": {},
   "outputs": [],
   "source": [
    "value_func = src.value_func.NNFunc(model, device)"
   ]
  },
  {
   "cell_type": "code",
   "execution_count": 5,
   "metadata": {},
   "outputs": [],
   "source": [
    "agent = src.Agent(value_func)"
   ]
  },
  {
   "cell_type": "code",
   "execution_count": 6,
   "metadata": {},
   "outputs": [],
   "source": [
    "batch_size = int(1e4)\n",
    "num_games = 1000\n",
    "eps_start = 1\n",
    "eps_end = .005\n",
    "eps_decay = 150\n",
    "loss_func = F.smooth_l1_loss\n",
    "optimizer = optim.Adam(model.parameters())\n",
    "game = src.Game(batch_size, device=device)\n",
    "session = agent.init_training_session(num_games, game, eps_start, eps_end, eps_decay, loss_func=loss_func, optimizer=optimizer)"
   ]
  },
  {
   "cell_type": "code",
   "execution_count": 7,
   "metadata": {},
   "outputs": [
    {
     "data": {
      "image/png": "[encoded data removed]",
      "text/plain": [
       "<Figure size 432x288 with 1 Axes>"
      ]
     },
     "metadata": {
      "needs_background": "light"
     },
     "output_type": "display_data"
    }
   ],
   "source": [
    "x = numpy.linspace(0, num_games, 100)\n",
    "y = numpy.array([agent.eps_func(index, eps_start, eps_end, eps_decay) for index in x])\n",
    "plt.plot(x, y);"
   ]
  },
  {
   "cell_type": "code",
   "execution_count": 8,
   "metadata": {},
   "outputs": [],
   "source": [
    "record = pandas.DataFrame(numpy.zeros((num_games, 3)), columns=['Time (s)', 'Mean Score', 'Std'])"
   ]
  },
  {
   "cell_type": "code",
   "execution_count": 9,
   "metadata": {},
   "outputs": [
    {
     "name": "stdout",
     "output_type": "stream",
     "text": [
      "0 5.715184450149536 1100.7379150390625 536.9246826171875\n",
      "100 649.0190870761871 1422.1951904296875 663.15234375\n",
      "200 1381.2385833263397 1620.8023681640625 749.4258422851562\n",
      "300 2181.4502243995667 1832.9407958984375 859.7289428710938\n",
      "400 3062.8423688411713 2085.0888671875 992.8890380859375\n",
      "500 4112.205425262451 2365.67822265625 1161.5098876953125\n",
      "600 5288.812297105789 2602.67236328125 1311.3536376953125\n",
      "700 6555.769366502762 2738.4423828125 1368.421875\n",
      "800 7840.929257392883 2879.544677734375 1435.3514404296875\n",
      "900 9144.891243219376 2892.58154296875 1436.890625\n"
     ]
    }
   ],
   "source": [
    "for index, game_time, mean, std in session:\n",
    "    record.loc[index, 'Time (s)'] = game_time\n",
    "    record.loc[index, 'Mean Score'] = mean\n",
    "    record.loc[index, 'Std'] = std\n",
    "    if index % 100 == 0:\n",
    "        print(index, game_time, mean, std)"
   ]
  },
  {
   "cell_type": "code",
   "execution_count": 12,
   "metadata": {},
   "outputs": [
    {
     "data": {
      "text/plain": [
       "[<matplotlib.lines.Line2D at 0x7f371c8f81d0>]"
      ]
     },
     "execution_count": 12,
     "metadata": {},
     "output_type": "execute_result"
    },
    {
     "data": {
      "image/png": "[encoded data removed]",
      "text/plain": [
       "<Figure size 432x288 with 1 Axes>"
      ]
     },
     "metadata": {
      "needs_background": "light"
     },
     "output_type": "display_data"
    }
   ],
   "source": [
    "plt.plot(record['Time (s)'], record['Mean Score'])"
   ]
  },
  {
   "cell_type": "code",
   "execution_count": 13,
   "metadata": {},
   "outputs": [],
   "source": [
    "record.to_csv('records/LinearHS.csv')"
   ]
  },
  {
   "cell_type": "code",
   "execution_count": 14,
   "metadata": {},
   "outputs": [],
   "source": [
    "torch.save(model.state_dict(), 'models/LinearHS.pt')"
   ]
  },
  {
   "cell_type": "code",
   "execution_count": null,
   "metadata": {},
   "outputs": [],
   "source": []
  }
 ],
 "metadata": {
  "kernelspec": {
   "display_name": "Python 3",
   "language": "python",
   "name": "python3"
  },
  "language_info": {
   "codemirror_mode": {
    "name": "ipython",
    "version": 3
   },
   "file_extension": ".py",
   "mimetype": "text/x-python",
   "name": "python",
   "nbconvert_exporter": "python",
   "pygments_lexer": "ipython3",
   "version": "3.6.9"
  }
 },
 "nbformat": 4,
 "nbformat_minor": 4
}
