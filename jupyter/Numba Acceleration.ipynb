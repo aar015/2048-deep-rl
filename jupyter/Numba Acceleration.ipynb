{
 "cells": [
  {
   "cell_type": "markdown",
   "metadata": {},
   "source": [
    "# Using Numba to Accelerate 2048"
   ]
  },
  {
   "cell_type": "code",
   "execution_count": 1,
   "metadata": {},
   "outputs": [],
   "source": [
    "import numpy as np\n",
    "import cupy as cp\n",
    "from numba import cuda, jit, guvectorize"
   ]
  },
  {
   "cell_type": "code",
   "execution_count": 2,
   "metadata": {},
   "outputs": [],
   "source": [
    "def base_rotate_index(x, y, rotation, board_size):\n",
    "    num_rotate = rotation % 4\n",
    "    while num_rotate > 0:\n",
    "        x, y = y, board_size - x - 1\n",
    "        num_rotate -= 1\n",
    "    return x, y"
   ]
  },
  {
   "cell_type": "code",
   "execution_count": 3,
   "metadata": {},
   "outputs": [],
   "source": [
    "def base_do_action(state, action, punishment, simulate):\n",
    "    reward = 0\n",
    "    update = False\n",
    "    for x in range(state.shape[0]):\n",
    "        for y1 in range(state.shape[1] - 1):\n",
    "            for y2 in range(y1 + 1, state.shape[1]):\n",
    "                rot_x1, rot_y1 = rotate_index(x, y1, action, state.shape[0])\n",
    "                rot_x2, rot_y2 = rotate_index(x, y2, action, state.shape[0])\n",
    "                if state[rot_x2, rot_y2] == 0:\n",
    "                    continue\n",
    "                elif state[rot_x1, rot_y1] == 0:\n",
    "                    if not simulate:\n",
    "                        state[rot_x1, rot_y1] = state[rot_x2, rot_y2]\n",
    "                        state[rot_x2, rot_y2] = 0\n",
    "                    update |= True\n",
    "                else:\n",
    "                    if state[rot_x1, rot_y1] == state[rot_x2, rot_y2]:\n",
    "                        if not simulate:\n",
    "                            state[rot_x1, rot_y1] += 1\n",
    "                            state[rot_x2, rot_y2] = 0\n",
    "                        reward += 2 ** state[rot_x1, rot_y1]\n",
    "                        update |= True\n",
    "                    break\n",
    "    return reward if update else -1 * punishment"
   ]
  },
  {
   "cell_type": "markdown",
   "metadata": {},
   "source": [
    "## Pure Python"
   ]
  },
  {
   "cell_type": "code",
   "execution_count": 4,
   "metadata": {},
   "outputs": [],
   "source": [
    "rotate_index = base_rotate_index\n",
    "do_action = base_do_action"
   ]
  },
  {
   "cell_type": "code",
   "execution_count": 5,
   "metadata": {},
   "outputs": [],
   "source": [
    "state = np.arange(16, dtype=np.uint8).reshape(4, 4)\n",
    "action = 3\n",
    "punishment = 1\n",
    "simulate = False"
   ]
  },
  {
   "cell_type": "code",
   "execution_count": 6,
   "metadata": {},
   "outputs": [
    {
     "name": "stdout",
     "output_type": "stream",
     "text": [
      "49.7 µs ± 1.09 µs per loop (mean ± std. dev. of 7 runs, 10000 loops each)\n"
     ]
    }
   ],
   "source": [
    "%timeit base_do_action(state, action, punishment, simulate)"
   ]
  },
  {
   "cell_type": "markdown",
   "metadata": {},
   "source": [
    "## Just in Time Compilation"
   ]
  },
  {
   "cell_type": "code",
   "execution_count": 7,
   "metadata": {},
   "outputs": [],
   "source": [
    "rotate_index = jit(nopython=True)(base_rotate_index)\n",
    "do_action = jit(nopython=True)(base_do_action)"
   ]
  },
  {
   "cell_type": "code",
   "execution_count": 8,
   "metadata": {},
   "outputs": [],
   "source": [
    "do_action(state, action, punishment, simulate);"
   ]
  },
  {
   "cell_type": "code",
   "execution_count": 9,
   "metadata": {},
   "outputs": [
    {
     "name": "stdout",
     "output_type": "stream",
     "text": [
      "440 ns ± 1.18 ns per loop (mean ± std. dev. of 7 runs, 1000000 loops each)\n"
     ]
    }
   ],
   "source": [
    "%timeit do_action(state, action, punishment, simulate)"
   ]
  },
  {
   "cell_type": "markdown",
   "metadata": {},
   "source": [
    "## Generelized Universal Functions"
   ]
  },
  {
   "cell_type": "code",
   "execution_count": 10,
   "metadata": {},
   "outputs": [],
   "source": [
    "num = int(1e4)\n",
    "states = np.arange(16 * num, dtype=np.uint8).reshape(num, 4, 4)\n",
    "actions = np.arange(num, dtype=np.int8)"
   ]
  },
  {
   "cell_type": "code",
   "execution_count": 11,
   "metadata": {},
   "outputs": [
    {
     "name": "stdout",
     "output_type": "stream",
     "text": [
      "8.15 ms ± 174 µs per loop (mean ± std. dev. of 7 runs, 1 loop each)\n"
     ]
    }
   ],
   "source": [
    "%%timeit\n",
    "for index in range(num):\n",
    "    do_action(states[index], actions[index], punishment, simulate)"
   ]
  },
  {
   "cell_type": "code",
   "execution_count": 12,
   "metadata": {},
   "outputs": [],
   "source": [
    "@guvectorize(['void(u1[:,:], i1[:], i4, b1, i4[:])'], '(n,n),(),(),()->()', target='cpu', nopython=True)\n",
    "def ufunc_do_action(state, action, punishment, simulate, reward):\n",
    "    reward[0] = do_action(state, action[0], punishment, simulate)"
   ]
  },
  {
   "cell_type": "code",
   "execution_count": 13,
   "metadata": {},
   "outputs": [],
   "source": [
    "ufunc_do_action(state, action, punishment, simulate);"
   ]
  },
  {
   "cell_type": "code",
   "execution_count": 14,
   "metadata": {},
   "outputs": [
    {
     "name": "stdout",
     "output_type": "stream",
     "text": [
      "778 µs ± 7.09 µs per loop (mean ± std. dev. of 7 runs, 1000 loops each)\n"
     ]
    }
   ],
   "source": [
    "%timeit ufunc_do_action(states, actions, punishment, simulate)"
   ]
  },
  {
   "cell_type": "markdown",
   "metadata": {},
   "source": [
    "## Cuda Generalized Universal Functions"
   ]
  },
  {
   "cell_type": "code",
   "execution_count": 15,
   "metadata": {},
   "outputs": [],
   "source": [
    "num = int(1e8)\n",
    "states = np.arange(16 * num, dtype=np.uint8).reshape(num, 4, 4)\n",
    "actions = np.arange(num, dtype=np.int8)"
   ]
  },
  {
   "cell_type": "code",
   "execution_count": 16,
   "metadata": {},
   "outputs": [
    {
     "name": "stdout",
     "output_type": "stream",
     "text": [
      "7.93 s ± 147 ms per loop (mean ± std. dev. of 7 runs, 1 loop each)\n"
     ]
    }
   ],
   "source": [
    "%timeit ufunc_do_action(states, actions, punishment, simulate)"
   ]
  },
  {
   "cell_type": "code",
   "execution_count": 17,
   "metadata": {},
   "outputs": [],
   "source": [
    "rotate_index = cuda.jit(device=True)(base_rotate_index)\n",
    "do_action = cuda.jit(device=True)(base_do_action)"
   ]
  },
  {
   "cell_type": "code",
   "execution_count": 18,
   "metadata": {},
   "outputs": [],
   "source": [
    "@guvectorize(['void(u1[:,:], i1[:], i4, b1, i4[:])'], '(n,n),(),(),()->()', target='cuda', nopython=True)\n",
    "def gpu_do_action(state, action, punishment, simulate, reward):\n",
    "    reward[0] = do_action(state, action[0], punishment, simulate)"
   ]
  },
  {
   "cell_type": "code",
   "execution_count": 19,
   "metadata": {},
   "outputs": [],
   "source": [
    "gpu_do_action(state, action, punishment, simulate);"
   ]
  },
  {
   "cell_type": "code",
   "execution_count": 20,
   "metadata": {},
   "outputs": [
    {
     "name": "stdout",
     "output_type": "stream",
     "text": [
      "356 ms ± 3.84 ms per loop (mean ± std. dev. of 7 runs, 1 loop each)\n"
     ]
    }
   ],
   "source": [
    "%timeit gpu_do_action(states, actions, punishment, simulate)"
   ]
  },
  {
   "cell_type": "code",
   "execution_count": 21,
   "metadata": {},
   "outputs": [],
   "source": [
    "state = cp.arange(16, dtype=cp.uint8).reshape(4, 4)\n",
    "states = cp.arange(16 * num, dtype=cp.uint8).reshape(num, 4, 4)\n",
    "actions = cp.arange(num, dtype=cp.int8)\n",
    "rewards = cp.zeros(num, dtype=cp.int32)"
   ]
  },
  {
   "cell_type": "code",
   "execution_count": 22,
   "metadata": {},
   "outputs": [
    {
     "name": "stdout",
     "output_type": "stream",
     "text": [
      "33 ms ± 2.07 ms per loop (mean ± std. dev. of 7 runs, 10 loops each)\n"
     ]
    }
   ],
   "source": [
    "%timeit gpu_do_action(states, actions, punishment, simulate, out=rewards)"
   ]
  },
  {
   "cell_type": "code",
   "execution_count": 23,
   "metadata": {},
   "outputs": [
    {
     "name": "stdout",
     "output_type": "stream",
     "text": [
      "1.33 ms ± 17 µs per loop (mean ± std. dev. of 7 runs, 1000 loops each)\n"
     ]
    }
   ],
   "source": [
    "%timeit gpu_do_action(state, action, punishment, simulate)"
   ]
  },
  {
   "cell_type": "code",
   "execution_count": 24,
   "metadata": {},
   "outputs": [],
   "source": [
    "import torch"
   ]
  },
  {
   "cell_type": "code",
   "execution_count": 27,
   "metadata": {},
   "outputs": [],
   "source": [
    "states = torch.arange(16 * num, dtype=torch.uint8).reshape(num, 4, 4)\n",
    "actions = torch.arange(num, dtype=torch.int8)\n",
    "rewards = torch.zeros(num, dtype=torch.int32)"
   ]
  },
  {
   "cell_type": "code",
   "execution_count": 28,
   "metadata": {},
   "outputs": [
    {
     "name": "stdout",
     "output_type": "stream",
     "text": [
      "1.37 ms ± 23 µs per loop (mean ± std. dev. of 7 runs, 1000 loops each)\n"
     ]
    }
   ],
   "source": [
    "%timeit gpu_do_action(state, action, punishment, simulate)"
   ]
  },
  {
   "cell_type": "code",
   "execution_count": null,
   "metadata": {},
   "outputs": [],
   "source": []
  }
 ],
 "metadata": {
  "kernelspec": {
   "display_name": "Python 3",
   "language": "python",
   "name": "python3"
  },
  "language_info": {
   "codemirror_mode": {
    "name": "ipython",
    "version": 3
   },
   "file_extension": ".py",
   "mimetype": "text/x-python",
   "name": "python",
   "nbconvert_exporter": "python",
   "pygments_lexer": "ipython3",
   "version": "3.6.9"
  }
 },
 "nbformat": 4,
 "nbformat_minor": 4
}
