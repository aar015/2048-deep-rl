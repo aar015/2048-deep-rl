{
 "cells": [
  {
   "cell_type": "code",
   "execution_count": 1,
   "metadata": {},
   "outputs": [],
   "source": [
    "from numba import jit, cuda, guvectorize\n",
    "import numpy"
   ]
  },
  {
   "cell_type": "code",
   "execution_count": 2,
   "metadata": {},
   "outputs": [],
   "source": [
    "def base_rotate_index(x, y, rotation, board_size):\n",
    "    num_rotate = rotation % 4\n",
    "    while num_rotate > 0:\n",
    "        x, y = y, board_size - x - 1\n",
    "        num_rotate -= 1\n",
    "    return x, y"
   ]
  },
  {
   "cell_type": "code",
   "execution_count": 3,
   "metadata": {},
   "outputs": [],
   "source": [
    "def base_do_action(state, action, punishment, simulate):\n",
    "    reward = 0\n",
    "    update = False\n",
    "    for x in range(state.shape[0]):\n",
    "        for y1 in range(state.shape[1] - 1):\n",
    "            for y2 in range(y1 + 1, state.shape[1]):\n",
    "                rot_x1, rot_y1 = rotate_index(x, y1, action, state.shape[0])\n",
    "                rot_x2, rot_y2 = rotate_index(x, y2, action, state.shape[0])\n",
    "                if state[rot_x2, rot_y2] == 0:\n",
    "                    continue\n",
    "                elif state[rot_x1, rot_y1] == 0:\n",
    "                    if not simulate:\n",
    "                        state[rot_x1, rot_y1] = state[rot_x2, rot_y2]\n",
    "                        state[rot_x2, rot_y2] = 0\n",
    "                    update |= True\n",
    "                else:\n",
    "                    if state[rot_x1, rot_y1] == state[rot_x2, rot_y2]:\n",
    "                        if not simulate:\n",
    "                            state[rot_x1, rot_y1] += 1\n",
    "                            state[rot_x2, rot_y2] = 0\n",
    "                        reward += 2 ** state[rot_x1, rot_y1]\n",
    "                        update |= True\n",
    "                    break\n",
    "    return reward if update else -1 * punishment"
   ]
  },
  {
   "cell_type": "code",
   "execution_count": 4,
   "metadata": {},
   "outputs": [],
   "source": [
    "def base_do_actions(state, action, punishment, simulate, reward):\n",
    "    reward[0] = do_action(state, action[0], punishment, simulate)"
   ]
  },
  {
   "cell_type": "code",
   "execution_count": 5,
   "metadata": {},
   "outputs": [],
   "source": [
    "class Test(object):\n",
    "    def __init__(self):\n",
    "        rotate_index = jit(nopython=True)(base_rotate_index)\n",
    "        do_action = jit(nopython=True)(base_do_action)\n",
    "        self.do_actions = guvectorize(['void(u1[:,:], i1[:], i4, b1, i4[:])'], '(n,n),(),(),()->()', target='cpu', nopython=True)(base_do_actions)"
   ]
  },
  {
   "cell_type": "code",
   "execution_count": 6,
   "metadata": {},
   "outputs": [
    {
     "data": {
      "text/plain": [
       "array([ 0, -1], dtype=int32)"
      ]
     },
     "execution_count": 6,
     "metadata": {},
     "output_type": "execute_result"
    }
   ],
   "source": [
    "rotate_index = jit(nopython=True)(base_rotate_index)\n",
    "do_action = jit(nopython=True)(base_do_action)\n",
    "x = Test()"
   ]
  },
  {
   "cell_type": "code",
   "execution_count": 8,
   "metadata": {},
   "outputs": [
    {
     "name": "stdout",
     "output_type": "stream",
     "text": [
      "6.7 µs ± 114 ns per loop (mean ± std. dev. of 7 runs, 100000 loops each)\n"
     ]
    }
   ],
   "source": [
    "%timeit x.do_actions(numpy.arange(32, dtype=numpy.uint8).reshape((2, 4, 4)), 1, 1, True)"
   ]
  },
  {
   "cell_type": "code",
   "execution_count": null,
   "metadata": {},
   "outputs": [],
   "source": []
  }
 ],
 "metadata": {
  "kernelspec": {
   "display_name": "Python 3",
   "language": "python",
   "name": "python3"
  },
  "language_info": {
   "codemirror_mode": {
    "name": "ipython",
    "version": 3
   },
   "file_extension": ".py",
   "mimetype": "text/x-python",
   "name": "python",
   "nbconvert_exporter": "python",
   "pygments_lexer": "ipython3",
   "version": "3.6.9"
  }
 },
 "nbformat": 4,
 "nbformat_minor": 4
}
