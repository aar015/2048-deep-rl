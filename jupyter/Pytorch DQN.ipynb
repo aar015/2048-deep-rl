{
 "cells": [
  {
   "cell_type": "markdown",
   "metadata": {},
   "source": [
    "## Set Up"
   ]
  },
  {
   "cell_type": "code",
   "execution_count": 1,
   "metadata": {},
   "outputs": [],
   "source": [
    "from src.game_logic import Game\n",
    "import math\n",
    "import time\n",
    "import numpy\n",
    "import pandas\n",
    "import torch\n",
    "import torch.nn as nn\n",
    "import torch.optim as optim\n",
    "import torch.nn.functional as F"
   ]
  },
  {
   "cell_type": "code",
   "execution_count": 2,
   "metadata": {},
   "outputs": [],
   "source": [
    "device = torch.device(\"cuda\" if torch.cuda.is_available() else \"cpu\")"
   ]
  },
  {
   "cell_type": "markdown",
   "metadata": {},
   "source": [
    "## Init"
   ]
  },
  {
   "cell_type": "code",
   "execution_count": 3,
   "metadata": {},
   "outputs": [],
   "source": [
    "model = nn.Sequential(\n",
    "    nn.Linear(16, 16),\n",
    "    nn.ReLU(),\n",
    "    nn.Linear(16, 16),\n",
    "    nn.ReLU(),\n",
    "    nn.Linear(16, 8),\n",
    "    nn.ReLU(),\n",
    "    nn.Linear(8, 4),\n",
    "    nn.ReLU(),\n",
    ").cuda()"
   ]
  },
  {
   "cell_type": "code",
   "execution_count": 4,
   "metadata": {},
   "outputs": [],
   "source": [
    "optimizer = optim.RMSprop(model.parameters())"
   ]
  },
  {
   "cell_type": "markdown",
   "metadata": {},
   "source": [
    "## Train"
   ]
  },
  {
   "cell_type": "code",
   "execution_count": 5,
   "metadata": {},
   "outputs": [],
   "source": [
    "num_games = int(5e0)\n",
    "batch_size = int(1e6)\n",
    "discount = 0.999\n",
    "eps_start = 0.75\n",
    "eps_end = 0.005\n",
    "eps_decay = 75"
   ]
  },
  {
   "cell_type": "code",
   "execution_count": null,
   "metadata": {},
   "outputs": [],
   "source": [
    "def _train_on_game(index, game,):\n",
    "    while not game.game_over():\n",
    "        _train_on_game()"
   ]
  },
  {
   "cell_type": "code",
   "execution_count": 9,
   "metadata": {},
   "outputs": [],
   "source": [
    "def train(model, loss_func, optimizer, num_games, batch_size, discount, eps_func):\n",
    "    start_time = time.time()\n",
    "    for index in range(num_games):\n",
    "        game = Game(batch_size, 4)\n",
    "\n",
    "        game_time = time.time() - start_time\n",
    "        mean = float(game.score.float().mean())\n",
    "        std = float(game.score.float().std())\n",
    "        yield index, game_time, mean, std"
   ]
  },
  {
   "cell_type": "code",
   "execution_count": 18,
   "metadata": {},
   "outputs": [
    {
     "name": "stdout",
     "output_type": "stream",
     "text": [
      "24.23522973060608 tensor(1040.1421, device='cuda:0') tensor(511.7341, device='cuda:0')\n",
      "45.5584921836853 tensor(1036.5852, device='cuda:0') tensor(509.4788, device='cuda:0')\n",
      "69.16304731369019 tensor(1032.3250, device='cuda:0') tensor(508.7476, device='cuda:0')\n",
      "93.71033763885498 tensor(1110.8843, device='cuda:0') tensor(543.5995, device='cuda:0')\n",
      "116.52382326126099 tensor(1074.1494, device='cuda:0') tensor(501.5773, device='cuda:0')\n"
     ]
    },
    {
     "data": {
      "text/html": [
       "<div>\n",
       "<style scoped>\n",
       "    .dataframe tbody tr th:only-of-type {\n",
       "        vertical-align: middle;\n",
       "    }\n",
       "\n",
       "    .dataframe tbody tr th {\n",
       "        vertical-align: top;\n",
       "    }\n",
       "\n",
       "    .dataframe thead th {\n",
       "        text-align: right;\n",
       "    }\n",
       "</style>\n",
       "<table border=\"1\" class=\"dataframe\">\n",
       "  <thead>\n",
       "    <tr style=\"text-align: right;\">\n",
       "      <th></th>\n",
       "      <th>Time</th>\n",
       "      <th>Mean</th>\n",
       "      <th>Std</th>\n",
       "    </tr>\n",
       "  </thead>\n",
       "  <tbody>\n",
       "    <tr>\n",
       "      <th>0</th>\n",
       "      <td>24.235230</td>\n",
       "      <td>1040.142090</td>\n",
       "      <td>511.734100</td>\n",
       "    </tr>\n",
       "    <tr>\n",
       "      <th>1</th>\n",
       "      <td>45.558492</td>\n",
       "      <td>1036.585205</td>\n",
       "      <td>509.478760</td>\n",
       "    </tr>\n",
       "    <tr>\n",
       "      <th>2</th>\n",
       "      <td>69.163047</td>\n",
       "      <td>1032.324951</td>\n",
       "      <td>508.747559</td>\n",
       "    </tr>\n",
       "    <tr>\n",
       "      <th>3</th>\n",
       "      <td>93.710338</td>\n",
       "      <td>1110.884277</td>\n",
       "      <td>543.599548</td>\n",
       "    </tr>\n",
       "    <tr>\n",
       "      <th>4</th>\n",
       "      <td>116.523823</td>\n",
       "      <td>1074.149414</td>\n",
       "      <td>501.577301</td>\n",
       "    </tr>\n",
       "  </tbody>\n",
       "</table>\n",
       "</div>"
      ],
      "text/plain": [
       "         Time         Mean         Std\n",
       "0   24.235230  1040.142090  511.734100\n",
       "1   45.558492  1036.585205  509.478760\n",
       "2   69.163047  1032.324951  508.747559\n",
       "3   93.710338  1110.884277  543.599548\n",
       "4  116.523823  1074.149414  501.577301"
      ]
     },
     "execution_count": 18,
     "metadata": {},
     "output_type": "execute_result"
    }
   ],
   "source": [
    "record = pandas.DataFrame(numpy.zeros((num_games, 3)), columns=['Time (s)', 'Mean', 'Std'])\n",
    "session = train(model, F.smooth_l1_loss, optimizer, num_games, batch_size, discount, eps_func)\n",
    "for index, game_time, mean, std in session:\n",
    "    print(game_time, mean, std)\n",
    "    record.loc[index] = [game_time, float(mean), float(std)]\n",
    "record.round(2)"
   ]
  },
  {
   "cell_type": "code",
   "execution_count": 19,
   "metadata": {},
   "outputs": [
    {
     "data": {
      "text/html": [
       "<div>\n",
       "<style scoped>\n",
       "    .dataframe tbody tr th:only-of-type {\n",
       "        vertical-align: middle;\n",
       "    }\n",
       "\n",
       "    .dataframe tbody tr th {\n",
       "        vertical-align: top;\n",
       "    }\n",
       "\n",
       "    .dataframe thead th {\n",
       "        text-align: right;\n",
       "    }\n",
       "</style>\n",
       "<table border=\"1\" class=\"dataframe\">\n",
       "  <thead>\n",
       "    <tr style=\"text-align: right;\">\n",
       "      <th></th>\n",
       "      <th>Time</th>\n",
       "      <th>Mean</th>\n",
       "      <th>Std</th>\n",
       "    </tr>\n",
       "  </thead>\n",
       "  <tbody>\n",
       "    <tr>\n",
       "      <th>0</th>\n",
       "      <td>24.24</td>\n",
       "      <td>1040.14</td>\n",
       "      <td>511.73</td>\n",
       "    </tr>\n",
       "    <tr>\n",
       "      <th>1</th>\n",
       "      <td>45.56</td>\n",
       "      <td>1036.59</td>\n",
       "      <td>509.48</td>\n",
       "    </tr>\n",
       "    <tr>\n",
       "      <th>2</th>\n",
       "      <td>69.16</td>\n",
       "      <td>1032.32</td>\n",
       "      <td>508.75</td>\n",
       "    </tr>\n",
       "    <tr>\n",
       "      <th>3</th>\n",
       "      <td>93.71</td>\n",
       "      <td>1110.88</td>\n",
       "      <td>543.60</td>\n",
       "    </tr>\n",
       "    <tr>\n",
       "      <th>4</th>\n",
       "      <td>116.52</td>\n",
       "      <td>1074.15</td>\n",
       "      <td>501.58</td>\n",
       "    </tr>\n",
       "  </tbody>\n",
       "</table>\n",
       "</div>"
      ],
      "text/plain": [
       "     Time     Mean     Std\n",
       "0   24.24  1040.14  511.73\n",
       "1   45.56  1036.59  509.48\n",
       "2   69.16  1032.32  508.75\n",
       "3   93.71  1110.88  543.60\n",
       "4  116.52  1074.15  501.58"
      ]
     },
     "execution_count": 19,
     "metadata": {},
     "output_type": "execute_result"
    }
   ],
   "source": [
    "record.round(2)"
   ]
  },
  {
   "cell_type": "markdown",
   "metadata": {},
   "source": [
    "## Play a Game"
   ]
  },
  {
   "cell_type": "code",
   "execution_count": 13,
   "metadata": {},
   "outputs": [],
   "source": [
    "def play_game(game):\n",
    "    while not game.game_over():\n",
    "        # Calculate q value for each action from state\n",
    "        state_values = model(game.state.flatten(1).float())\n",
    "        # Flag futile actions\n",
    "        state_values[game.available_actions().logical_not()] = -1\n",
    "        # Choose action with max q_value\n",
    "        actions = state_values.max(1)[1]\n",
    "        # Do Action\n",
    "        game.do_action(actions.to(torch.int8), 1)"
   ]
  },
  {
   "cell_type": "code",
   "execution_count": 14,
   "metadata": {},
   "outputs": [
    {
     "name": "stdout",
     "output_type": "stream",
     "text": [
      "CPU times: user 8.47 s, sys: 3.98 ms, total: 8.47 s\n",
      "Wall time: 8.49 s\n"
     ]
    }
   ],
   "source": [
    "game = Game(int(1e6), 4)\n",
    "%time play_game(game)"
   ]
  },
  {
   "cell_type": "code",
   "execution_count": 15,
   "metadata": {},
   "outputs": [
    {
     "data": {
      "text/plain": [
       "tensor(811.8593, device='cuda:0')"
      ]
     },
     "execution_count": 15,
     "metadata": {},
     "output_type": "execute_result"
    }
   ],
   "source": [
    "game.score.float().mean()"
   ]
  },
  {
   "cell_type": "code",
   "execution_count": 16,
   "metadata": {},
   "outputs": [
    {
     "data": {
      "text/plain": [
       "tensor(508.4912, device='cuda:0')"
      ]
     },
     "execution_count": 16,
     "metadata": {},
     "output_type": "execute_result"
    }
   ],
   "source": [
    "game.score.float().std()"
   ]
  },
  {
   "cell_type": "code",
   "execution_count": 18,
   "metadata": {},
   "outputs": [
    {
     "data": {
      "text/plain": [
       "tensor(5848, device='cuda:0', dtype=torch.int32)"
      ]
     },
     "execution_count": 18,
     "metadata": {},
     "output_type": "execute_result"
    }
   ],
   "source": [
    "game.score.max()"
   ]
  },
  {
   "cell_type": "raw",
   "metadata": {},
   "source": [
    "%%time\n",
    "results = torch.zeros((num_games, 2), device=device)\n",
    "for index in range(num_games):\n",
    "    game = Game(batch_size, 4)\n",
    "    while not game.game_over():\n",
    "        # Calculate q value for each action from state\n",
    "        state_values = model(game.state.flatten(1).float())\n",
    "        # Flag futile actions\n",
    "        state_values[game.available_actions().logical_not()] = -1\n",
    "        # Choose action with max q_value\n",
    "        actions = state_values.max(1)[1]\n",
    "        # Choose random available action\n",
    "        rand_actions = (game.available_actions() * torch.rand((batch_size, 4), device=device)).max(1)[1]\n",
    "        # Mix policy and exploration\n",
    "        eps = eps_end + (eps_start - eps_end) * math.exp(-1.0 * index / eps_decay)\n",
    "        rand_indices = (torch.rand(batch_size, device=device) < eps)\n",
    "        actions[rand_indices] = rand_actions[rand_indices]\n",
    "        # Calculate q-values\n",
    "        q_values = state_values.gather(1, actions.unsqueeze(1)).squeeze()\n",
    "        # Do action\n",
    "        rewards = game.do_action(actions.to(torch.int8), 1)\n",
    "        rewards[game.game_over(dim=1)] = 0\n",
    "        # Calculate Q-value of the next state\n",
    "        with torch.no_grad():\n",
    "            next_state_values = model(game.state.flatten(1).float())\n",
    "        next_state_values[game.available_actions().logical_not()] = -1\n",
    "        next_q_values = next_state_values.max(1)[0]\n",
    "        next_q_values[game.game_over(dim=1)] = 0\n",
    "        # Calculate expected Q-values\n",
    "        expected_q_values = (next_q_values * discount) + rewards\n",
    "        # Calculate loss\n",
    "        loss = F.smooth_l1_loss(q_values, expected_q_values)\n",
    "        # Backpropogate\n",
    "        optimizer.zero_grad()\n",
    "        loss.backward()\n",
    "        for param in model.parameters():\n",
    "            print(param.grad.data.max())\n",
    "        optimizer.step()\n",
    "    results[index, 0] = game.score.float().mean()\n",
    "    results[index, 1] = game.score.float().std()\n",
    "    #print(results[index])"
   ]
  }
 ],
 "metadata": {
  "kernelspec": {
   "display_name": "Python 3",
   "language": "python",
   "name": "python3"
  },
  "language_info": {
   "codemirror_mode": {
    "name": "ipython",
    "version": 3
   },
   "file_extension": ".py",
   "mimetype": "text/x-python",
   "name": "python",
   "nbconvert_exporter": "python",
   "pygments_lexer": "ipython3",
   "version": "3.6.9"
  }
 },
 "nbformat": 4,
 "nbformat_minor": 4
}
