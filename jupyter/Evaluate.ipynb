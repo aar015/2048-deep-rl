{
 "cells": [
  {
   "cell_type": "code",
   "execution_count": 2,
   "metadata": {},
   "outputs": [],
   "source": [
    "import torch\n",
    "import torch.nn as nn\n",
    "from src.agent_logic import Agent\n",
    "from src.game_logic import Game\n",
    "import pandas\n",
    "from matplotlib import pyplot as plt"
   ]
  },
  {
   "cell_type": "code",
   "execution_count": 3,
   "metadata": {},
   "outputs": [],
   "source": [
    "def play_game(game, agent):\n",
    "    while not game.game_over():\n",
    "        # Calculate q value for each action from state\n",
    "        state_values = agent._model(game.state.flatten(1).float())\n",
    "        # Flag futile actions\n",
    "        state_values[game.available_actions().logical_not()] = -1\n",
    "        # Choose action with max q_value\n",
    "        actions = state_values.max(1)[1]\n",
    "        # Do Action\n",
    "        game.do_action(actions.to(torch.int8), 1)"
   ]
  },
  {
   "cell_type": "markdown",
   "metadata": {},
   "source": [
    "## Init Random Agent"
   ]
  },
  {
   "cell_type": "code",
   "execution_count": 4,
   "metadata": {},
   "outputs": [],
   "source": [
    "device = torch.device(\"cuda\" if torch.cuda.is_available() else \"cpu\")"
   ]
  },
  {
   "cell_type": "code",
   "execution_count": 6,
   "metadata": {},
   "outputs": [],
   "source": [
    "model = nn.Sequential(\n",
    "    nn.Linear(16, 16),\n",
    "    nn.Hardsigmoid(),\n",
    "    nn.Linear(16, 16),\n",
    "    nn.Hardsigmoid(),\n",
    "    nn.Linear(16, 8),\n",
    "    nn.Hardsigmoid(),\n",
    "    nn.Linear(8, 4),\n",
    "    nn.Hardsigmoid(),\n",
    ")"
   ]
  },
  {
   "cell_type": "code",
   "execution_count": 7,
   "metadata": {},
   "outputs": [],
   "source": [
    "agent = Agent(device, model)"
   ]
  },
  {
   "cell_type": "markdown",
   "metadata": {},
   "source": [
    "## Play Game with Random AgentWeights"
   ]
  },
  {
   "cell_type": "code",
   "execution_count": 8,
   "metadata": {},
   "outputs": [],
   "source": [
    "game = Game(5, 4)"
   ]
  },
  {
   "cell_type": "code",
   "execution_count": 9,
   "metadata": {},
   "outputs": [],
   "source": [
    "play_game(game, agent)"
   ]
  },
  {
   "cell_type": "code",
   "execution_count": 10,
   "metadata": {},
   "outputs": [
    {
     "data": {
      "text/plain": [
       "tensor([[[4, 3, 4, 1],\n",
       "         [3, 4, 2, 4],\n",
       "         [2, 3, 1, 2],\n",
       "         [1, 2, 3, 1]],\n",
       "\n",
       "        [[4, 3, 1, 2],\n",
       "         [3, 1, 2, 4],\n",
       "         [1, 3, 5, 2],\n",
       "         [2, 1, 3, 1]],\n",
       "\n",
       "        [[1, 6, 2, 1],\n",
       "         [3, 4, 5, 3],\n",
       "         [2, 3, 4, 6],\n",
       "         [1, 2, 3, 1]],\n",
       "\n",
       "        [[1, 2, 3, 4],\n",
       "         [3, 4, 5, 6],\n",
       "         [2, 3, 4, 5],\n",
       "         [1, 2, 3, 4]],\n",
       "\n",
       "        [[1, 4, 1, 3],\n",
       "         [3, 5, 6, 5],\n",
       "         [2, 1, 5, 1],\n",
       "         [1, 2, 3, 4]]], device='cuda:0', dtype=torch.uint8)"
      ]
     },
     "execution_count": 10,
     "metadata": {},
     "output_type": "execute_result"
    }
   ],
   "source": [
    "game.state"
   ]
  },
  {
   "cell_type": "code",
   "execution_count": 11,
   "metadata": {},
   "outputs": [
    {
     "data": {
      "text/plain": [
       "tensor([244, 284, 900, 808, 788], device='cuda:0', dtype=torch.int32)"
      ]
     },
     "execution_count": 11,
     "metadata": {},
     "output_type": "execute_result"
    }
   ],
   "source": [
    "game.score"
   ]
  },
  {
   "cell_type": "markdown",
   "metadata": {},
   "source": [
    "## Load Trained Agent"
   ]
  },
  {
   "cell_type": "code",
   "execution_count": 12,
   "metadata": {},
   "outputs": [
    {
     "data": {
      "text/plain": [
       "<All keys matched successfully>"
      ]
     },
     "execution_count": 12,
     "metadata": {},
     "output_type": "execute_result"
    }
   ],
   "source": [
    "model.load_state_dict(torch.load('models/model1.pt'))"
   ]
  },
  {
   "cell_type": "markdown",
   "metadata": {},
   "source": [
    "## Play Game with Trained Agent"
   ]
  },
  {
   "cell_type": "code",
   "execution_count": 13,
   "metadata": {},
   "outputs": [],
   "source": [
    "game = Game(5, 4)"
   ]
  },
  {
   "cell_type": "code",
   "execution_count": 14,
   "metadata": {},
   "outputs": [],
   "source": [
    "play_game(game, agent)"
   ]
  },
  {
   "cell_type": "code",
   "execution_count": 15,
   "metadata": {},
   "outputs": [
    {
     "data": {
      "text/plain": [
       "tensor([[[1, 2, 3, 4],\n",
       "         [2, 3, 4, 5],\n",
       "         [3, 4, 5, 6],\n",
       "         [1, 5, 7, 3]],\n",
       "\n",
       "        [[2, 1, 2, 3],\n",
       "         [1, 2, 3, 4],\n",
       "         [2, 4, 2, 6],\n",
       "         [1, 5, 3, 7]],\n",
       "\n",
       "        [[1, 2, 1, 4],\n",
       "         [2, 1, 3, 5],\n",
       "         [5, 3, 5, 7],\n",
       "         [1, 4, 7, 8]],\n",
       "\n",
       "        [[1, 2, 3, 4],\n",
       "         [2, 3, 4, 5],\n",
       "         [3, 4, 5, 6],\n",
       "         [5, 2, 4, 8]],\n",
       "\n",
       "        [[1, 2, 3, 4],\n",
       "         [4, 3, 4, 6],\n",
       "         [2, 6, 1, 7],\n",
       "         [1, 4, 5, 8]]], device='cuda:0', dtype=torch.uint8)"
      ]
     },
     "execution_count": 15,
     "metadata": {},
     "output_type": "execute_result"
    }
   ],
   "source": [
    "game.state"
   ]
  },
  {
   "cell_type": "code",
   "execution_count": 16,
   "metadata": {},
   "outputs": [
    {
     "data": {
      "text/plain": [
       "tensor([1636, 1312, 3760, 2672, 3428], device='cuda:0', dtype=torch.int32)"
      ]
     },
     "execution_count": 16,
     "metadata": {},
     "output_type": "execute_result"
    }
   ],
   "source": [
    "game.score"
   ]
  },
  {
   "cell_type": "markdown",
   "metadata": {},
   "source": [
    "## Load Training Record"
   ]
  },
  {
   "cell_type": "code",
   "execution_count": 18,
   "metadata": {},
   "outputs": [],
   "source": [
    "training = pandas.read_csv('records/trial1.csv')"
   ]
  },
  {
   "cell_type": "code",
   "execution_count": 21,
   "metadata": {},
   "outputs": [
    {
     "data": {
      "image/png": "[encoded data removed]",
      "text/plain": [
       "<Figure size 432x288 with 1 Axes>"
      ]
     },
     "metadata": {
      "needs_background": "light"
     },
     "output_type": "display_data"
    }
   ],
   "source": [
    "plt.scatter(training['Time (s)'], training['Mean'])\n",
    "plt.show()"
   ]
  },
  {
   "cell_type": "code",
   "execution_count": null,
   "metadata": {},
   "outputs": [],
   "source": []
  }
 ],
 "metadata": {
  "kernelspec": {
   "display_name": "Python 3",
   "language": "python",
   "name": "python3"
  },
  "language_info": {
   "codemirror_mode": {
    "name": "ipython",
    "version": 3
   },
   "file_extension": ".py",
   "mimetype": "text/x-python",
   "name": "python",
   "nbconvert_exporter": "python",
   "pygments_lexer": "ipython3",
   "version": "3.6.9"
  }
 },
 "nbformat": 4,
 "nbformat_minor": 4
}
