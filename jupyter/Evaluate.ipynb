{
 "cells": [
  {
   "cell_type": "code",
   "execution_count": 18,
   "metadata": {},
   "outputs": [
    {
     "ename": "ModuleNotFoundError",
     "evalue": "No module named 'matplotlib'",
     "output_type": "error",
     "traceback": [
      "\u001b[0;31m---------------------------------------------------------------------------\u001b[0m",
      "\u001b[0;31mModuleNotFoundError\u001b[0m                       Traceback (most recent call last)",
      "\u001b[0;32m<ipython-input-18-08d658359f04>\u001b[0m in \u001b[0;36m<module>\u001b[0;34m\u001b[0m\n\u001b[1;32m      4\u001b[0m \u001b[0;32mfrom\u001b[0m \u001b[0msrc\u001b[0m\u001b[0;34m.\u001b[0m\u001b[0mgame_logic\u001b[0m \u001b[0;32mimport\u001b[0m \u001b[0mGame\u001b[0m\u001b[0;34m\u001b[0m\u001b[0;34m\u001b[0m\u001b[0m\n\u001b[1;32m      5\u001b[0m \u001b[0;32mimport\u001b[0m \u001b[0mpandas\u001b[0m\u001b[0;34m\u001b[0m\u001b[0;34m\u001b[0m\u001b[0m\n\u001b[0;32m----> 6\u001b[0;31m \u001b[0;32mfrom\u001b[0m \u001b[0mmatplotlib\u001b[0m \u001b[0;32mimport\u001b[0m \u001b[0mpyplot\u001b[0m \u001b[0;32mas\u001b[0m \u001b[0mplt\u001b[0m\u001b[0;34m\u001b[0m\u001b[0;34m\u001b[0m\u001b[0m\n\u001b[0m",
      "\u001b[0;31mModuleNotFoundError\u001b[0m: No module named 'matplotlib'"
     ]
    }
   ],
   "source": [
    "import torch\n",
    "import torch.nn as nn\n",
    "from src.agent_logic import Agent\n",
    "from src.game_logic import Game\n",
    "import pandas\n",
    "from matplotlib import pyplot as plt"
   ]
  },
  {
   "cell_type": "code",
   "execution_count": 2,
   "metadata": {},
   "outputs": [],
   "source": [
    "def play_game(game, agent):\n",
    "    while not game.game_over():\n",
    "        # Calculate q value for each action from state\n",
    "        state_values = agent._model(game.state.flatten(1).float())\n",
    "        # Flag futile actions\n",
    "        state_values[game.available_actions().logical_not()] = -1\n",
    "        # Choose action with max q_value\n",
    "        actions = state_values.max(1)[1]\n",
    "        # Do Action\n",
    "        game.do_action(actions.to(torch.int8), 1)"
   ]
  },
  {
   "cell_type": "markdown",
   "metadata": {},
   "source": [
    "## Init Agent"
   ]
  },
  {
   "cell_type": "code",
   "execution_count": 3,
   "metadata": {},
   "outputs": [],
   "source": [
    "device = torch.device(\"cuda\" if torch.cuda.is_available() else \"cpu\")"
   ]
  },
  {
   "cell_type": "code",
   "execution_count": 4,
   "metadata": {},
   "outputs": [],
   "source": [
    "model = nn.Sequential(\n",
    "    nn.Linear(16, 16),\n",
    "    nn.Hardsigmoid(),\n",
    "    nn.Linear(16, 16),\n",
    "    nn.Hardsigmoid(),\n",
    "    nn.Linear(16, 8),\n",
    "    nn.Hardsigmoid(),\n",
    "    nn.Linear(8, 4),\n",
    "    nn.Hardsigmoid(),\n",
    ")"
   ]
  },
  {
   "cell_type": "code",
   "execution_count": 5,
   "metadata": {},
   "outputs": [],
   "source": [
    "agent = Agent(device, model)"
   ]
  },
  {
   "cell_type": "code",
   "execution_count": 6,
   "metadata": {},
   "outputs": [],
   "source": [
    "game = Game(5, 4)"
   ]
  },
  {
   "cell_type": "code",
   "execution_count": 7,
   "metadata": {},
   "outputs": [],
   "source": [
    "play_game(game, agent)"
   ]
  },
  {
   "cell_type": "code",
   "execution_count": 8,
   "metadata": {},
   "outputs": [
    {
     "data": {
      "text/plain": [
       "tensor([[[2, 1, 2, 1],\n",
       "         [3, 2, 3, 2],\n",
       "         [5, 4, 2, 3],\n",
       "         [7, 2, 4, 1]],\n",
       "\n",
       "        [[2, 1, 2, 1],\n",
       "         [5, 4, 1, 2],\n",
       "         [1, 6, 2, 3],\n",
       "         [4, 2, 4, 1]],\n",
       "\n",
       "        [[4, 3, 2, 1],\n",
       "         [5, 4, 3, 4],\n",
       "         [6, 5, 6, 3],\n",
       "         [8, 3, 2, 1]],\n",
       "\n",
       "        [[4, 3, 2, 1],\n",
       "         [5, 4, 3, 2],\n",
       "         [6, 5, 4, 3],\n",
       "         [8, 6, 5, 1]],\n",
       "\n",
       "        [[2, 1, 2, 1],\n",
       "         [4, 3, 5, 2],\n",
       "         [5, 4, 3, 4],\n",
       "         [7, 5, 2, 1]]], device='cuda:0', dtype=torch.uint8)"
      ]
     },
     "execution_count": 8,
     "metadata": {},
     "output_type": "execute_result"
    }
   ],
   "source": [
    "game.state"
   ]
  },
  {
   "cell_type": "code",
   "execution_count": 9,
   "metadata": {},
   "outputs": [
    {
     "data": {
      "text/plain": [
       "tensor([ 988,  576, 2808, 2900, 1280], device='cuda:0', dtype=torch.int32)"
      ]
     },
     "execution_count": 9,
     "metadata": {},
     "output_type": "execute_result"
    }
   ],
   "source": [
    "game.score"
   ]
  },
  {
   "cell_type": "code",
   "execution_count": 10,
   "metadata": {},
   "outputs": [
    {
     "data": {
      "text/plain": [
       "<All keys matched successfully>"
      ]
     },
     "execution_count": 10,
     "metadata": {},
     "output_type": "execute_result"
    }
   ],
   "source": [
    "model.load_state_dict(torch.load('model1.pt'))"
   ]
  },
  {
   "cell_type": "code",
   "execution_count": 11,
   "metadata": {},
   "outputs": [],
   "source": [
    "game = Game(5, 4)"
   ]
  },
  {
   "cell_type": "code",
   "execution_count": 12,
   "metadata": {},
   "outputs": [],
   "source": [
    "play_game(game, agent)"
   ]
  },
  {
   "cell_type": "code",
   "execution_count": 13,
   "metadata": {},
   "outputs": [
    {
     "data": {
      "text/plain": [
       "tensor([[[1, 2, 3, 4],\n",
       "         [2, 3, 4, 5],\n",
       "         [1, 7, 1, 6],\n",
       "         [3, 1, 2, 7]],\n",
       "\n",
       "        [[1, 2, 3, 4],\n",
       "         [2, 3, 1, 6],\n",
       "         [4, 5, 4, 7],\n",
       "         [1, 2, 8, 1]],\n",
       "\n",
       "        [[1, 2, 3, 4],\n",
       "         [4, 3, 4, 5],\n",
       "         [2, 5, 1, 7],\n",
       "         [1, 3, 4, 9]],\n",
       "\n",
       "        [[1, 2, 3, 4],\n",
       "         [2, 3, 4, 5],\n",
       "         [3, 4, 5, 1],\n",
       "         [2, 5, 7, 3]],\n",
       "\n",
       "        [[2, 1, 3, 4],\n",
       "         [3, 2, 4, 5],\n",
       "         [1, 4, 5, 6],\n",
       "         [2, 6, 1, 8]]], device='cuda:0', dtype=torch.uint8)"
      ]
     },
     "execution_count": 13,
     "metadata": {},
     "output_type": "execute_result"
    }
   ],
   "source": [
    "game.state"
   ]
  },
  {
   "cell_type": "code",
   "execution_count": 14,
   "metadata": {},
   "outputs": [
    {
     "data": {
      "text/plain": [
       "tensor([2072, 3084, 5232, 1328, 2764], device='cuda:0', dtype=torch.int32)"
      ]
     },
     "execution_count": 14,
     "metadata": {},
     "output_type": "execute_result"
    }
   ],
   "source": [
    "game.score"
   ]
  },
  {
   "cell_type": "code",
   "execution_count": 16,
   "metadata": {},
   "outputs": [],
   "source": [
    "training = pandas.read_csv('trial1.csv')"
   ]
  },
  {
   "cell_type": "code",
   "execution_count": 20,
   "metadata": {},
   "outputs": [
    {
     "data": {
      "text/html": [
       "<div>\n",
       "<style scoped>\n",
       "    .dataframe tbody tr th:only-of-type {\n",
       "        vertical-align: middle;\n",
       "    }\n",
       "\n",
       "    .dataframe tbody tr th {\n",
       "        vertical-align: top;\n",
       "    }\n",
       "\n",
       "    .dataframe thead th {\n",
       "        text-align: right;\n",
       "    }\n",
       "</style>\n",
       "<table border=\"1\" class=\"dataframe\">\n",
       "  <thead>\n",
       "    <tr style=\"text-align: right;\">\n",
       "      <th></th>\n",
       "      <th>Unnamed: 0</th>\n",
       "      <th>Time (s)</th>\n",
       "      <th>Mean</th>\n",
       "      <th>Std</th>\n",
       "    </tr>\n",
       "  </thead>\n",
       "  <tbody>\n",
       "    <tr>\n",
       "      <th>0</th>\n",
       "      <td>0</td>\n",
       "      <td>23.63</td>\n",
       "      <td>1040.20</td>\n",
       "      <td>512.06</td>\n",
       "    </tr>\n",
       "    <tr>\n",
       "      <th>1</th>\n",
       "      <td>1</td>\n",
       "      <td>48.31</td>\n",
       "      <td>1036.40</td>\n",
       "      <td>509.77</td>\n",
       "    </tr>\n",
       "    <tr>\n",
       "      <th>2</th>\n",
       "      <td>2</td>\n",
       "      <td>71.79</td>\n",
       "      <td>1102.10</td>\n",
       "      <td>538.49</td>\n",
       "    </tr>\n",
       "    <tr>\n",
       "      <th>3</th>\n",
       "      <td>3</td>\n",
       "      <td>94.81</td>\n",
       "      <td>1102.59</td>\n",
       "      <td>538.37</td>\n",
       "    </tr>\n",
       "    <tr>\n",
       "      <th>4</th>\n",
       "      <td>4</td>\n",
       "      <td>120.63</td>\n",
       "      <td>1103.69</td>\n",
       "      <td>538.41</td>\n",
       "    </tr>\n",
       "    <tr>\n",
       "      <th>...</th>\n",
       "      <td>...</td>\n",
       "      <td>...</td>\n",
       "      <td>...</td>\n",
       "      <td>...</td>\n",
       "    </tr>\n",
       "    <tr>\n",
       "      <th>995</th>\n",
       "      <td>995</td>\n",
       "      <td>36384.75</td>\n",
       "      <td>2206.73</td>\n",
       "      <td>1096.89</td>\n",
       "    </tr>\n",
       "    <tr>\n",
       "      <th>996</th>\n",
       "      <td>996</td>\n",
       "      <td>36426.41</td>\n",
       "      <td>2205.68</td>\n",
       "      <td>1096.91</td>\n",
       "    </tr>\n",
       "    <tr>\n",
       "      <th>997</th>\n",
       "      <td>997</td>\n",
       "      <td>36463.91</td>\n",
       "      <td>2205.50</td>\n",
       "      <td>1096.65</td>\n",
       "    </tr>\n",
       "    <tr>\n",
       "      <th>998</th>\n",
       "      <td>998</td>\n",
       "      <td>36504.03</td>\n",
       "      <td>2203.89</td>\n",
       "      <td>1093.94</td>\n",
       "    </tr>\n",
       "    <tr>\n",
       "      <th>999</th>\n",
       "      <td>999</td>\n",
       "      <td>36539.68</td>\n",
       "      <td>2208.55</td>\n",
       "      <td>1097.02</td>\n",
       "    </tr>\n",
       "  </tbody>\n",
       "</table>\n",
       "<p>1000 rows × 4 columns</p>\n",
       "</div>"
      ],
      "text/plain": [
       "     Unnamed: 0  Time (s)     Mean      Std\n",
       "0             0     23.63  1040.20   512.06\n",
       "1             1     48.31  1036.40   509.77\n",
       "2             2     71.79  1102.10   538.49\n",
       "3             3     94.81  1102.59   538.37\n",
       "4             4    120.63  1103.69   538.41\n",
       "..          ...       ...      ...      ...\n",
       "995         995  36384.75  2206.73  1096.89\n",
       "996         996  36426.41  2205.68  1096.91\n",
       "997         997  36463.91  2205.50  1096.65\n",
       "998         998  36504.03  2203.89  1093.94\n",
       "999         999  36539.68  2208.55  1097.02\n",
       "\n",
       "[1000 rows x 4 columns]"
      ]
     },
     "execution_count": 20,
     "metadata": {},
     "output_type": "execute_result"
    }
   ],
   "source": [
    "training.round(2)"
   ]
  },
  {
   "cell_type": "code",
   "execution_count": null,
   "metadata": {},
   "outputs": [],
   "source": []
  }
 ],
 "metadata": {
  "kernelspec": {
   "display_name": "Python 3",
   "language": "python",
   "name": "python3"
  },
  "language_info": {
   "codemirror_mode": {
    "name": "ipython",
    "version": 3
   },
   "file_extension": ".py",
   "mimetype": "text/x-python",
   "name": "python",
   "nbconvert_exporter": "python",
   "pygments_lexer": "ipython3",
   "version": "3.6.9"
  }
 },
 "nbformat": 4,
 "nbformat_minor": 4
}
