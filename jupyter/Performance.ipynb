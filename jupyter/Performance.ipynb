{
 "cells": [
  {
   "cell_type": "code",
   "execution_count": 1,
   "metadata": {},
   "outputs": [],
   "source": [
    "import src\n",
    "import statistics\n",
    "import torch\n",
    "import torch.nn as nn\n",
    "import torch.optim as optim\n",
    "import torch.nn.functional as F"
   ]
  },
  {
   "cell_type": "markdown",
   "metadata": {},
   "source": [
    "## Game Engine"
   ]
  },
  {
   "cell_type": "code",
   "execution_count": 2,
   "metadata": {},
   "outputs": [],
   "source": [
    "def play_random_game(game):\n",
    "    game.new_game()\n",
    "    while not game.game_over():\n",
    "        if game.batch_size == 0:\n",
    "            random = torch.rand(4, dtype=torch.float32, device=game.device)\n",
    "            action = (game.available_actions() * random).argmax().to(torch.int8)\n",
    "        else:\n",
    "            random = torch.rand((game.batch_size, 4), dtype=torch.float32, device=game.device)\n",
    "            action = (game.available_actions() * random).max(1)[1].to(torch.int8)\n",
    "        game.do_action(action)\n",
    "        game.add_tile()\n",
    "    return game.score"
   ]
  },
  {
   "cell_type": "markdown",
   "metadata": {},
   "source": [
    "### CPU"
   ]
  },
  {
   "cell_type": "code",
   "execution_count": 3,
   "metadata": {},
   "outputs": [],
   "source": [
    "device = torch.device('cpu')"
   ]
  },
  {
   "cell_type": "code",
   "execution_count": 4,
   "metadata": {},
   "outputs": [
    {
     "name": "stdout",
     "output_type": "stream",
     "text": [
      "34.2 ms ± 3.7 ms per loop (mean ± std. dev. of 7 runs, 10 loops each)\n"
     ]
    }
   ],
   "source": [
    "batch_size = 0\n",
    "game = src.Game(batch_size, device=device)\n",
    "%timeit play_random_game(game)"
   ]
  },
  {
   "cell_type": "code",
   "execution_count": 5,
   "metadata": {},
   "outputs": [
    {
     "name": "stdout",
     "output_type": "stream",
     "text": [
      "39.4 ms ± 2.13 ms per loop (mean ± std. dev. of 7 runs, 10 loops each)\n"
     ]
    }
   ],
   "source": [
    "batch_size = int(1e1)\n",
    "game = src.Game(batch_size, device=device)\n",
    "%timeit play_random_game(game)"
   ]
  },
  {
   "cell_type": "code",
   "execution_count": 6,
   "metadata": {},
   "outputs": [
    {
     "name": "stdout",
     "output_type": "stream",
     "text": [
      "79.2 ms ± 1.72 ms per loop (mean ± std. dev. of 7 runs, 10 loops each)\n"
     ]
    }
   ],
   "source": [
    "batch_size = int(1e2)\n",
    "game = src.Game(batch_size, device=device)\n",
    "%timeit play_random_game(game)"
   ]
  },
  {
   "cell_type": "code",
   "execution_count": 7,
   "metadata": {},
   "outputs": [
    {
     "name": "stdout",
     "output_type": "stream",
     "text": [
      "372 ms ± 25.8 ms per loop (mean ± std. dev. of 7 runs, 1 loop each)\n"
     ]
    }
   ],
   "source": [
    "batch_size = int(1e3)\n",
    "game = src.Game(batch_size, device=device)\n",
    "%timeit play_random_game(game)"
   ]
  },
  {
   "cell_type": "code",
   "execution_count": 8,
   "metadata": {},
   "outputs": [
    {
     "name": "stdout",
     "output_type": "stream",
     "text": [
      "3.94 s ± 403 ms per loop (mean ± std. dev. of 7 runs, 1 loop each)\n"
     ]
    }
   ],
   "source": [
    "batch_size = int(1e4)\n",
    "game = src.Game(batch_size, device=device)\n",
    "%timeit play_random_game(game)"
   ]
  },
  {
   "cell_type": "markdown",
   "metadata": {},
   "source": [
    "### GPU"
   ]
  },
  {
   "cell_type": "code",
   "execution_count": 9,
   "metadata": {},
   "outputs": [],
   "source": [
    "device = torch.device('cuda')"
   ]
  },
  {
   "cell_type": "code",
   "execution_count": 10,
   "metadata": {},
   "outputs": [
    {
     "name": "stdout",
     "output_type": "stream",
     "text": [
      "960 ms ± 309 ms per loop (mean ± std. dev. of 7 runs, 1 loop each)\n"
     ]
    }
   ],
   "source": [
    "batch_size = 0\n",
    "game = src.Game(batch_size, device=device)\n",
    "%timeit play_random_game(game)"
   ]
  },
  {
   "cell_type": "code",
   "execution_count": 11,
   "metadata": {},
   "outputs": [
    {
     "name": "stdout",
     "output_type": "stream",
     "text": [
      "1.7 s ± 106 ms per loop (mean ± std. dev. of 7 runs, 1 loop each)\n"
     ]
    }
   ],
   "source": [
    "batch_size = int(1e2)\n",
    "game = src.Game(batch_size, device=device)\n",
    "%timeit play_random_game(game)"
   ]
  },
  {
   "cell_type": "code",
   "execution_count": 12,
   "metadata": {},
   "outputs": [
    {
     "name": "stdout",
     "output_type": "stream",
     "text": [
      "2.45 s ± 132 ms per loop (mean ± std. dev. of 7 runs, 1 loop each)\n"
     ]
    }
   ],
   "source": [
    "batch_size = int(1e4)\n",
    "game = src.Game(batch_size, device=device)\n",
    "%timeit play_random_game(game)"
   ]
  },
  {
   "cell_type": "code",
   "execution_count": null,
   "metadata": {},
   "outputs": [],
   "source": [
    "batch_size = int(1e6)\n",
    "game = src.Game(batch_size, device=device)\n",
    "%timeit play_random_game(game)"
   ]
  },
  {
   "cell_type": "markdown",
   "metadata": {},
   "source": [
    "## Agent Play"
   ]
  },
  {
   "cell_type": "code",
   "execution_count": 13,
   "metadata": {},
   "outputs": [],
   "source": [
    "eps_start = 0\n",
    "eps_end = 0\n",
    "eps_decay = 1"
   ]
  },
  {
   "cell_type": "code",
   "execution_count": 14,
   "metadata": {},
   "outputs": [],
   "source": [
    "def time_session(session):\n",
    "    game_times = []\n",
    "    last_game_time = 0\n",
    "    for index, game_time, mean, std in session:\n",
    "        game_times.append(game_time - last_game_time)\n",
    "        last_game_time = game_time\n",
    "    return statistics.mean(game_times), statistics.stdev(game_times)"
   ]
  },
  {
   "cell_type": "code",
   "execution_count": 15,
   "metadata": {},
   "outputs": [],
   "source": [
    "def time_agent(agent, num_games, game, eps_start, eps_end, eps_decay, **kwargs):\n",
    "    session = agent.init_training_session(num_games, game, eps_start, eps_end, eps_decay, **kwargs)\n",
    "    mean, std = time_session(session)\n",
    "    batch_size = game.batch_size\n",
    "    if batch_size == 0:\n",
    "        batch_size = 1\n",
    "    inverse_mean = batch_size / mean\n",
    "    inverse_std = batch_size * std / mean**2\n",
    "    template = 'Agent can play {inverse_mean: .2f} +/- {inverse_std: .2f} games per sec'\n",
    "    print(template.format(inverse_mean=inverse_mean, inverse_std=inverse_std))\n",
    "    return inverse_mean, inverse_std"
   ]
  },
  {
   "cell_type": "markdown",
   "metadata": {},
   "source": [
    "### CPU"
   ]
  },
  {
   "cell_type": "code",
   "execution_count": 16,
   "metadata": {},
   "outputs": [],
   "source": [
    "device = torch.device('cpu')\n",
    "value_func = src.value_func.RandomFunc(device)\n",
    "agent = src.Agent(value_func)"
   ]
  },
  {
   "cell_type": "code",
   "execution_count": 17,
   "metadata": {},
   "outputs": [
    {
     "name": "stdout",
     "output_type": "stream",
     "text": [
      "Agent can play  10.29 +/-  3.23 games per sec\n"
     ]
    }
   ],
   "source": [
    "batch_size = 0\n",
    "num_games = 1000\n",
    "game = src.Game(batch_size, device=device)\n",
    "time_agent(agent, num_games, game, eps_start, eps_end, eps_decay);"
   ]
  },
  {
   "cell_type": "code",
   "execution_count": 18,
   "metadata": {},
   "outputs": [
    {
     "name": "stdout",
     "output_type": "stream",
     "text": [
      "Agent can play  62.17 +/-  10.23 games per sec\n"
     ]
    }
   ],
   "source": [
    "batch_size = int(1e1)\n",
    "num_games = 300\n",
    "game = src.Game(batch_size, device=device)\n",
    "time_agent(agent, num_games, game, eps_start, eps_end, eps_decay);"
   ]
  },
  {
   "cell_type": "code",
   "execution_count": 19,
   "metadata": {},
   "outputs": [
    {
     "name": "stdout",
     "output_type": "stream",
     "text": [
      "Agent can play  334.21 +/-  28.64 games per sec\n"
     ]
    }
   ],
   "source": [
    "batch_size = int(1e2)\n",
    "num_games = 100\n",
    "game = src.Game(batch_size, device=device)\n",
    "time_agent(agent, num_games, game, eps_start, eps_end, eps_decay);"
   ]
  },
  {
   "cell_type": "code",
   "execution_count": 20,
   "metadata": {},
   "outputs": [
    {
     "name": "stdout",
     "output_type": "stream",
     "text": [
      "Agent can play  827.91 +/-  38.79 games per sec\n"
     ]
    }
   ],
   "source": [
    "batch_size = int(1e3)\n",
    "num_gaCPUAgentmes = 30\n",
    "game = src.Game(batch_size, device=device)\n",
    "time_agent(agent, num_games, game, eps_start, eps_end, eps_decay);"
   ]
  },
  {
   "cell_type": "code",
   "execution_count": 21,
   "metadata": {},
   "outputs": [
    {
     "name": "stdout",
     "output_type": "stream",
     "text": [
      "Agent can play  922.67 +/-  30.71 games per sec\n"
     ]
    }
   ],
   "source": [
    "batch_size = int(1e4)\n",
    "num_games = 10\n",
    "game = src.Game(batch_size, device=device)\n",
    "time_agent(agent, num_games, game, eps_start, eps_end, eps_decay);"
   ]
  },
  {
   "cell_type": "markdown",
   "metadata": {},
   "source": [
    "### GPU"
   ]
  },
  {
   "cell_type": "code",
   "execution_count": 22,
   "metadata": {},
   "outputs": [],
   "source": [
    "device = torch.device('cuda')\n",
    "value_func = src.value_func.RandomFunc(device)\n",
    "agent = src.Agent(value_func)"
   ]
  },
  {
   "cell_type": "code",
   "execution_count": 23,
   "metadata": {},
   "outputs": [
    {
     "name": "stdout",
     "output_type": "stream",
     "text": [
      "Agent can play  0.40 +/-  0.12 games per sec\n"
     ]
    }
   ],
   "source": [
    "batch_size = 0\n",
    "num_games = 10\n",
    "game = src.Game(batch_size, device=device)\n",
    "time_agent(agent, num_games, game, eps_start, eps_end, eps_decay);"
   ]
  },
  {
   "cell_type": "code",
   "execution_count": 24,
   "metadata": {},
   "outputs": [
    {
     "name": "stdout",
     "output_type": "stream",
     "text": [
      "Agent can play  18.63 +/-  3.06 games per sec\n"
     ]
    }
   ],
   "source": [
    "batch_size = int(1e2)\n",
    "num_games = 10\n",
    "game = src.Game(batch_size, device=device)\n",
    "time_agent(agent, num_games, game, eps_start, eps_end, eps_decay);"
   ]
  },
  {
   "cell_type": "code",
   "execution_count": 25,
   "metadata": {},
   "outputs": [
    {
     "name": "stdout",
     "output_type": "stream",
     "text": [
      "Agent can play  1499.22 +/-  55.80 games per sec\n"
     ]
    }
   ],
   "source": [
    "batch_size = int(1e4)\n",
    "num_games = 10\n",
    "game = src.Game(batch_size, device=device)\n",
    "time_agent(agent, num_games, game, eps_start, eps_end, eps_decay);"
   ]
  },
  {
   "cell_type": "code",
   "execution_count": 26,
   "metadata": {},
   "outputs": [
    {
     "name": "stdout",
     "output_type": "stream",
     "text": [
      "Agent can play  96295.83 +/-  7485.64 games per sec\n"
     ]
    }
   ],
   "source": [
    "batch_size = int(1e6)\n",
    "num_games = 10\n",
    "game = src.Game(batch_size, device=device)\n",
    "time_agent(agent, num_games, game, eps_start, eps_end, eps_decay);"
   ]
  },
  {
   "cell_type": "markdown",
   "metadata": {},
   "source": [
    "## Neural Agent Play"
   ]
  },
  {
   "cell_type": "markdown",
   "metadata": {},
   "source": [
    "### CPU"
   ]
  },
  {
   "cell_type": "code",
   "execution_count": 36,
   "metadata": {},
   "outputs": [],
   "source": [
    "model = nn.Sequential(\n",
    "    nn.Linear(16, 16),\n",
    "    nn.Hardsigmoid(),\n",
    "    nn.Linear(16, 8),\n",
    "    nn.Hardsigmoid(),\n",
    "    nn.Linear(8, 4),\n",
    "    nn.Hardsigmoid(),\n",
    "    nn.Linear(4, 2),\n",
    "    nn.Hardsigmoid(),\n",
    "    nn.Linear(2, 1),\n",
    "    nn.Hardsigmoid(),\n",
    ")\n",
    "loss_func = F.smooth_l1_loss\n",
    "optimizer = optim.Adam(model.parameters())"
   ]
  },
  {
   "cell_type": "code",
   "execution_count": 28,
   "metadata": {},
   "outputs": [],
   "source": [
    "device = torch.device('cpu')\n",
    "value_func = src.value_func.NNFunc(model, device)\n",
    "agent = src.Agent(value_func)"
   ]
  },
  {
   "cell_type": "code",
   "execution_count": 29,
   "metadata": {},
   "outputs": [
    {
     "name": "stdout",
     "output_type": "stream",
     "text": [
      "Agent can play  1.42 +/-  0.51 games per sec\n"
     ]
    }
   ],
   "source": [
    "batch_size = 0\n",
    "num_games = 100\n",
    "game = src.Game(batch_size, device=device)\n",
    "time_agent(agent, num_games, game, eps_start, eps_end, eps_decay, loss_func=loss_func, optimizer=optimizer);"
   ]
  },
  {
   "cell_type": "code",
   "execution_count": 30,
   "metadata": {},
   "outputs": [
    {
     "name": "stdout",
     "output_type": "stream",
     "text": [
      "Agent can play  60.91 +/-  6.45 games per sec\n"
     ]
    }
   ],
   "source": [
    "batch_size = int(1e2)\n",
    "num_games = 30\n",
    "game = src.Game(batch_size, device=device)\n",
    "time_agent(agent, num_games, game, eps_start, eps_end, eps_decay, loss_func=loss_func, optimizer=optimizer);"
   ]
  },
  {
   "cell_type": "code",
   "execution_count": 31,
   "metadata": {},
   "outputs": [
    {
     "name": "stdout",
     "output_type": "stream",
     "text": [
      "Agent can play  460.12 +/-  33.96 games per sec\n"
     ]
    }
   ],
   "source": [
    "batch_size = int(1e4)\n",
    "num_games = 10\n",
    "game = src.Game(batch_size, device=device)\n",
    "time_agent(agent, num_games, game, eps_start, eps_end, eps_decay, loss_func=loss_func, optimizer=optimizer);"
   ]
  },
  {
   "cell_type": "markdown",
   "metadata": {},
   "source": [
    "### GPU"
   ]
  },
  {
   "cell_type": "code",
   "execution_count": 36,
   "metadata": {},
   "outputs": [],
   "source": [
    "model = nn.Sequential(\n",
    "    nn.Linear(16, 16),\n",
    "    nn.Hardsigmoid(),\n",
    "    nn.Linear(16, 8),\n",
    "    nn.Hardsigmoid(),\n",
    "    nn.Linear(8, 4),\n",
    "    nn.Hardsigmoid(),\n",
    "    nn.Linear(4, 2),\n",
    "    nn.Hardsigmoid(),\n",
    "    nn.Linear(2, 1),\n",
    "    nn.Hardsigmoid(),\n",
    ")\n",
    "loss_func = F.smooth_l1_loss\n",
    "optimizer = optim.Adam(model.parameters())"
   ]
  },
  {
   "cell_type": "code",
   "execution_count": 37,
   "metadata": {},
   "outputs": [],
   "source": [
    "device = torch.device('cuda')\n",
    "value_func = src.value_func.NNFunc(model, device)\n",
    "agent = src.Agent(value_func)"
   ]
  },
  {
   "cell_type": "code",
   "execution_count": 38,
   "metadata": {},
   "outputs": [
    {
     "name": "stdout",
     "output_type": "stream",
     "text": [
      "Agent can play  0.23 +/-  0.09 games per sec\n"
     ]
    }
   ],
   "source": [
    "batch_size = 0\n",
    "num_games = 100\n",
    "game = src.Game(batch_size, device=device)\n",
    "time_agent(agent, num_games, game, eps_start, eps_end, eps_decay, loss_func=loss_func, optimizer=optimizer);"
   ]
  },
  {
   "cell_type": "code",
   "execution_count": 39,
   "metadata": {},
   "outputs": [
    {
     "name": "stdout",
     "output_type": "stream",
     "text": [
      "Agent can play  10.05 +/-  1.24 games per sec\n"
     ]
    }
   ],
   "source": [
    "batch_size = int(1e2)\n",
    "num_games = 30\n",
    "game = src.Game(batch_size, device=device)\n",
    "time_agent(agent, num_games, game, eps_start, eps_end, eps_decay, loss_func=loss_func, optimizer=optimizer);"
   ]
  },
  {
   "cell_type": "code",
   "execution_count": 40,
   "metadata": {},
   "outputs": [
    {
     "name": "stdout",
     "output_type": "stream",
     "text": [
      "Agent can play  689.55 +/-  47.91 games per sec\n"
     ]
    }
   ],
   "source": [
    "batch_size = int(1e4)\n",
    "num_games = 10\n",
    "game = src.Game(batch_size, device=device)\n",
    "time_agent(agent, num_games, game, eps_start, eps_end, eps_decay, loss_func=loss_func, optimizer=optimizer);"
   ]
  },
  {
   "cell_type": "code",
   "execution_count": 41,
   "metadata": {},
   "outputs": [
    {
     "name": "stdout",
     "output_type": "stream",
     "text": [
      "Agent can play  23361.03 +/-  695.68 games per sec\n"
     ]
    }
   ],
   "source": [
    "batch_size = int(1e6)\n",
    "num_games = 3\n",
    "game = src.Game(batch_size, device=device)\n",
    "time_agent(agent, num_games, game, eps_start, eps_end, eps_decay, loss_func=loss_func, optimizer=optimizer);"
   ]
  },
  {
   "cell_type": "code",
   "execution_count": null,
   "metadata": {},
   "outputs": [],
   "source": []
  }
 ],
 "metadata": {
  "kernelspec": {
   "display_name": "Python 3",
   "language": "python",
   "name": "python3"
  },
  "language_info": {
   "codemirror_mode": {
    "name": "ipython",
    "version": 3
   },
   "file_extension": ".py",
   "mimetype": "text/x-python",
   "name": "python",
   "nbconvert_exporter": "python",
   "pygments_lexer": "ipython3",
   "version": "3.6.9"
  }
 },
 "nbformat": 4,
 "nbformat_minor": 4
}
